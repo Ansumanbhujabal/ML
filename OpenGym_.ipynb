{
  "nbformat": 4,
  "nbformat_minor": 0,
  "metadata": {
    "colab": {
      "provenance": []
    },
    "kernelspec": {
      "name": "python3",
      "display_name": "Python 3"
    },
    "language_info": {
      "name": "python"
    }
  },
  "cells": [
    {
      "cell_type": "markdown",
      "source": [
        "## **IMPORT**"
      ],
      "metadata": {
        "id": "dG2KXnuiKVJQ"
      }
    },
    {
      "cell_type": "code",
      "execution_count": 5,
      "metadata": {
        "colab": {
          "base_uri": "https://localhost:8080/"
        },
        "id": "ClFX0avjJsQ5",
        "outputId": "2a4d517f-0ddd-414b-af5b-1664eda5596a"
      },
      "outputs": [
        {
          "output_type": "stream",
          "name": "stdout",
          "text": [
            "Requirement already satisfied: gym in /usr/local/lib/python3.10/dist-packages (0.25.2)\n",
            "Requirement already satisfied: numpy>=1.18.0 in /usr/local/lib/python3.10/dist-packages (from gym) (1.23.5)\n",
            "Requirement already satisfied: cloudpickle>=1.2.0 in /usr/local/lib/python3.10/dist-packages (from gym) (2.2.1)\n",
            "Requirement already satisfied: gym-notices>=0.0.4 in /usr/local/lib/python3.10/dist-packages (from gym) (0.0.8)\n"
          ]
        }
      ],
      "source": [
        "pip install gym\n"
      ]
    },
    {
      "cell_type": "markdown",
      "source": [
        "# Create the CartPole environment"
      ],
      "metadata": {
        "id": "yeNDudV_LMwe"
      }
    },
    {
      "cell_type": "code",
      "source": [
        "\n",
        "import gym\n",
        "\n",
        "env = gym.make('CartPole-v1')\n",
        "\n",
        "# Reset the environment to get the initial state\n",
        "observation = env.reset()"
      ],
      "metadata": {
        "id": "Gzsrt0kCLXsd"
      },
      "execution_count": 6,
      "outputs": []
    },
    {
      "cell_type": "markdown",
      "source": [
        "# Run the environment for 100 timesteps\n"
      ],
      "metadata": {
        "id": "9Jiq8D_GLRiu"
      }
    },
    {
      "cell_type": "code",
      "source": [
        "\n",
        "\n",
        "for _ in range(100):\n",
        "    # Render the current state (comment this line out if you don't want to visualize)\n",
        "    env.render()\n",
        "\n",
        "    # Take a random action (0 for pushing the cart left, 1 for pushing the cart right)\n",
        "    action = env.action_space.sample()\n",
        "\n",
        "    # Step the environment by taking the chosen action\n",
        "    observation, reward, done, info = env.step(action)\n",
        "\n",
        "    # If the episode is done, reset the environment\n",
        "    if done:\n",
        "        print(\"Episode finished after {} timesteps\".format(_ + 1))\n",
        "        observation = env.reset()\n",
        "\n",
        "# Close the environment\n",
        "env.close()\n"
      ],
      "metadata": {
        "colab": {
          "base_uri": "https://localhost:8080/"
        },
        "id": "c1hhJ3CZKaQw",
        "outputId": "07be0cab-d300-47fb-ac69-b12e11dd1b7c"
      },
      "execution_count": 7,
      "outputs": [
        {
          "output_type": "stream",
          "name": "stdout",
          "text": [
            "Episode finished after 17 timesteps\n",
            "Episode finished after 30 timesteps\n",
            "Episode finished after 45 timesteps\n",
            "Episode finished after 75 timesteps\n"
          ]
        }
      ]
    },
    {
      "cell_type": "code",
      "source": [],
      "metadata": {
        "id": "KLzlhIcQKhbo"
      },
      "execution_count": null,
      "outputs": []
    }
  ]
}