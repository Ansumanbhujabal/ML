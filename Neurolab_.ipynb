{
  "nbformat": 4,
  "nbformat_minor": 0,
  "metadata": {
    "colab": {
      "provenance": []
    },
    "kernelspec": {
      "name": "python3",
      "display_name": "Python 3"
    },
    "language_info": {
      "name": "python"
    }
  },
  "cells": [
    {
      "cell_type": "markdown",
      "source": [
        "## **IMPORT**"
      ],
      "metadata": {
        "id": "TTR17BRMILcQ"
      }
    },
    {
      "cell_type": "code",
      "source": [
        "!pip install neurolab\n"
      ],
      "metadata": {
        "colab": {
          "base_uri": "https://localhost:8080/"
        },
        "id": "fUYHKpQuIxTl",
        "outputId": "20f69cbf-2514-4cc8-c3f5-41008bbcb7cd"
      },
      "execution_count": 2,
      "outputs": [
        {
          "output_type": "stream",
          "name": "stdout",
          "text": [
            "Collecting neurolab\n",
            "  Downloading neurolab-0.3.5.tar.gz (645 kB)\n",
            "\u001b[2K     \u001b[90m━━━━━━━━━━━━━━━━━━━━━━━━━━━━━━━━━━━━━━━━\u001b[0m \u001b[32m645.3/645.3 kB\u001b[0m \u001b[31m6.0 MB/s\u001b[0m eta \u001b[36m0:00:00\u001b[0m\n",
            "\u001b[?25h  Preparing metadata (setup.py) ... \u001b[?25l\u001b[?25hdone\n",
            "Building wheels for collected packages: neurolab\n",
            "  Building wheel for neurolab (setup.py) ... \u001b[?25l\u001b[?25hdone\n",
            "  Created wheel for neurolab: filename=neurolab-0.3.5-py3-none-any.whl size=22181 sha256=64aba14711eaf7451414e2ae7ce44fd017b09135f7f4e69de2f11626d758f5e2\n",
            "  Stored in directory: /root/.cache/pip/wheels/1d/c0/44/7142fa43c89473c5e63a750a00224e5f9ec9ca80613de1f97d\n",
            "Successfully built neurolab\n",
            "Installing collected packages: neurolab\n",
            "Successfully installed neurolab-0.3.5\n"
          ]
        }
      ]
    },
    {
      "cell_type": "code",
      "execution_count": 3,
      "metadata": {
        "id": "HXX-d9rzH7Jz"
      },
      "outputs": [],
      "source": [
        "import numpy as np\n",
        "import neurolab as nl"
      ]
    },
    {
      "cell_type": "markdown",
      "source": [
        "# Create train samples\n"
      ],
      "metadata": {
        "id": "cawQY74RI8Zt"
      }
    },
    {
      "cell_type": "code",
      "source": [
        "input_data = np.random.uniform(-0.5, 0.5, (10, 2))\n",
        "target_data = (input_data[:, 0] + input_data[:, 1]).reshape(10, 1)\n",
        "net = nl.net.newff([[-0.5, 0.5], [-0.5, 0.5]], [5, 1])\n"
      ],
      "metadata": {
        "id": "IcME69nwIQ7w"
      },
      "execution_count": 4,
      "outputs": []
    },
    {
      "cell_type": "markdown",
      "source": [
        "## Train the network"
      ],
      "metadata": {
        "id": "R_ya-jKlJQFX"
      }
    },
    {
      "cell_type": "code",
      "source": [
        "\n",
        "err = net.train(input_data, target_data, show=15)"
      ],
      "metadata": {
        "colab": {
          "base_uri": "https://localhost:8080/"
        },
        "id": "25a4_a9QJET-",
        "outputId": "7fd53781-d795-4322-a1d6-cf94a18928bc"
      },
      "execution_count": 5,
      "outputs": [
        {
          "output_type": "stream",
          "name": "stdout",
          "text": [
            "Epoch: 15; Error: 0.0290967442122303;\n",
            "The goal of learning is reached\n"
          ]
        }
      ]
    },
    {
      "cell_type": "markdown",
      "source": [
        "## **Test the network**"
      ],
      "metadata": {
        "id": "cFJW8HRDJYF4"
      }
    },
    {
      "cell_type": "code",
      "source": [
        "\n",
        "output = net.sim([[0.2, 0.1]])  # 0.2 + 0.1\n",
        "\n",
        "# Print the output\n",
        "print(\"Network output for [0.2, 0.1]:\", output)"
      ],
      "metadata": {
        "colab": {
          "base_uri": "https://localhost:8080/"
        },
        "id": "x6d2ukKWJSNe",
        "outputId": "ec233318-6d33-4bdc-e3bc-758cfbb82bd5"
      },
      "execution_count": 6,
      "outputs": [
        {
          "output_type": "stream",
          "name": "stdout",
          "text": [
            "Network output for [0.2, 0.1]: [[0.34820461]]\n"
          ]
        }
      ]
    },
    {
      "cell_type": "code",
      "source": [],
      "metadata": {
        "id": "Bo12wIgPJaf4"
      },
      "execution_count": null,
      "outputs": []
    }
  ]
}