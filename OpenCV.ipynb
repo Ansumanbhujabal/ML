{
  "nbformat": 4,
  "nbformat_minor": 0,
  "metadata": {
    "colab": {
      "provenance": []
    },
    "kernelspec": {
      "name": "python3",
      "display_name": "Python 3"
    },
    "language_info": {
      "name": "python"
    }
  },
  "cells": [
    {
      "cell_type": "markdown",
      "source": [
        "## **IMPORT**"
      ],
      "metadata": {
        "id": "2G57NuhtMPxw"
      }
    },
    {
      "cell_type": "code",
      "execution_count": 1,
      "metadata": {
        "colab": {
          "base_uri": "https://localhost:8080/"
        },
        "id": "jOxpuwUBMFZp",
        "outputId": "de78f4e9-c5c6-4e5e-cbf2-c37c03985881"
      },
      "outputs": [
        {
          "output_type": "stream",
          "name": "stdout",
          "text": [
            "Requirement already satisfied: opencv-python in /usr/local/lib/python3.10/dist-packages (4.8.0.76)\n",
            "Requirement already satisfied: numpy>=1.21.2 in /usr/local/lib/python3.10/dist-packages (from opencv-python) (1.23.5)\n"
          ]
        }
      ],
      "source": [
        "pip install opencv-python\n"
      ]
    },
    {
      "cell_type": "markdown",
      "source": [
        "# Open a connection to the default camera (camera index 0)\n"
      ],
      "metadata": {
        "id": "b3uUBL2BMa7G"
      }
    },
    {
      "cell_type": "code",
      "source": [
        "import cv2\n",
        "\n",
        "# Open a connection to the default camera (camera index 0)\n",
        "cap = cv2.VideoCapture(0)"
      ],
      "metadata": {
        "id": "PqslJSx_Mhf_"
      },
      "execution_count": 2,
      "outputs": []
    },
    {
      "cell_type": "markdown",
      "source": [
        "# Check if the camera opened successfully\n"
      ],
      "metadata": {
        "id": "R7zvUcVBMkcY"
      }
    },
    {
      "cell_type": "code",
      "source": [
        "\n",
        "\n",
        "if not cap.isOpened():\n",
        "    print(\"Error: Could not open camera.\")\n",
        "    exit()\n",
        "\n",
        "while True:\n",
        "    # Capture frame-by-frame\n",
        "    ret, frame = cap.read()\n",
        "\n",
        "    # If the frame is read correctly, ret is True\n",
        "    if not ret:\n",
        "        print(\"Error: Couldn't read frame.\")\n",
        "        break\n",
        "\n",
        "    # Display the resulting frame\n",
        "    cv2.imshow(\"Video\", frame)\n",
        "\n",
        "    # Break the loop if 'q' key is pressed\n",
        "    if cv2.waitKey(1) & 0xFF == ord('q'):\n",
        "        break\n",
        "\n",
        "# Release the camera and close all windows\n",
        "cap.release()\n",
        "cv2.destroyAllWindows()\n"
      ],
      "metadata": {
        "id": "CaD0cwIwMUPO"
      },
      "execution_count": null,
      "outputs": []
    },
    {
      "cell_type": "code",
      "source": [],
      "metadata": {
        "id": "tPOw69FgMo3_"
      },
      "execution_count": null,
      "outputs": []
    }
  ]
}