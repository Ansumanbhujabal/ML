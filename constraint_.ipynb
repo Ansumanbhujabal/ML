{
  "nbformat": 4,
  "nbformat_minor": 0,
  "metadata": {
    "colab": {
      "provenance": []
    },
    "kernelspec": {
      "name": "python3",
      "display_name": "Python 3"
    },
    "language_info": {
      "name": "python"
    }
  },
  "cells": [
    {
      "cell_type": "code",
      "execution_count": 4,
      "metadata": {
        "colab": {
          "base_uri": "https://localhost:8080/"
        },
        "id": "f21Hp3RvGlV8",
        "outputId": "da8cf19c-6b72-443a-e39c-81333c0b3453"
      },
      "outputs": [
        {
          "output_type": "stream",
          "name": "stdout",
          "text": [
            "Collecting python-constraint\n",
            "  Downloading python-constraint-1.4.0.tar.bz2 (18 kB)\n",
            "  Preparing metadata (setup.py) ... \u001b[?25l\u001b[?25hdone\n",
            "Building wheels for collected packages: python-constraint\n",
            "  Building wheel for python-constraint (setup.py) ... \u001b[?25l\u001b[?25hdone\n",
            "  Created wheel for python-constraint: filename=python_constraint-1.4.0-py2.py3-none-any.whl size=24058 sha256=86db09ab3f32c2ff5f2f0052b20e18117d8da5de7e01452090594f4ab27694d1\n",
            "  Stored in directory: /root/.cache/pip/wheels/2e/f2/2b/cb08b5fe129e4f69b7033061f256e5c551b0aa1160c2872aee\n",
            "Successfully built python-constraint\n",
            "Installing collected packages: python-constraint\n",
            "Successfully installed python-constraint-1.4.0\n"
          ]
        }
      ],
      "source": [
        "pip install python-constraint\n"
      ]
    },
    {
      "cell_type": "code",
      "source": [
        "from constraint import *\n",
        "problem = Problem()\n",
        "problem.addVariable(\"a\", [1,2,3])\n",
        "problem.addVariable(\"b\", [4,5,6])\n",
        "problem.getSolutions()\n",
        "[{'a': 3, 'b': 6}, {'a': 3, 'b': 5}, {'a': 3, 'b': 4},\n",
        " {'a': 2, 'b': 6}, {'a': 2, 'b': 5}, {'a': 2, 'b': 4},\n",
        " {'a': 1, 'b': 6}, {'a': 1, 'b': 5}, {'a': 1, 'b': 4}]\n",
        "\n",
        "problem.addConstraint(lambda a, b: a*2 == b,\n",
        "                          (\"a\", \"b\"))\n",
        "problem.getSolutions()\n",
        "[{'a': 3, 'b': 6}, {'a': 2, 'b': 4}]\n",
        "\n",
        "problem = Problem()\n",
        "problem.addVariables([\"a\", \"b\"], [1, 2, 3])\n",
        "problem.addConstraint(AllDifferentConstraint())\n",
        "problem.getSolutions()\n",
        "[{'a': 3, 'b': 2}, {'a': 3, 'b': 1}, {'a': 2, 'b': 3},\n",
        " {'a': 2, 'b': 1}, {'a': 1, 'b': 2}, {'a': 1, 'b': 3}]\n"
      ],
      "metadata": {
        "colab": {
          "base_uri": "https://localhost:8080/"
        },
        "id": "qOzX7HlFHAd_",
        "outputId": "2d3f169d-4189-42b8-a48b-25e381860218"
      },
      "execution_count": 5,
      "outputs": [
        {
          "output_type": "execute_result",
          "data": {
            "text/plain": [
              "[{'a': 3, 'b': 2},\n",
              " {'a': 3, 'b': 1},\n",
              " {'a': 2, 'b': 3},\n",
              " {'a': 2, 'b': 1},\n",
              " {'a': 1, 'b': 2},\n",
              " {'a': 1, 'b': 3}]"
            ]
          },
          "metadata": {},
          "execution_count": 5
        }
      ]
    },
    {
      "cell_type": "markdown",
      "source": [],
      "metadata": {
        "id": "4NcfW26YG_iw"
      }
    }
  ]
}