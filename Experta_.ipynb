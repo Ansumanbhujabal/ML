{
  "nbformat": 4,
  "nbformat_minor": 0,
  "metadata": {
    "colab": {
      "provenance": []
    },
    "kernelspec": {
      "name": "python3",
      "display_name": "Python 3"
    },
    "language_info": {
      "name": "python"
    }
  },
  "cells": [
    {
      "cell_type": "code",
      "source": [
        "pip install --upgrade experta\n"
      ],
      "metadata": {
        "colab": {
          "base_uri": "https://localhost:8080/"
        },
        "id": "VuC8tUTXFqvf",
        "outputId": "8ddb13a7-6027-425f-8ae1-dfa7f4f0143a"
      },
      "execution_count": 5,
      "outputs": [
        {
          "output_type": "stream",
          "name": "stdout",
          "text": [
            "Requirement already satisfied: experta in /usr/local/lib/python3.10/dist-packages (1.9.4)\n",
            "Requirement already satisfied: frozendict==1.2 in /usr/local/lib/python3.10/dist-packages (from experta) (1.2)\n",
            "Requirement already satisfied: schema==0.6.7 in /usr/local/lib/python3.10/dist-packages (from experta) (0.6.7)\n"
          ]
        }
      ]
    },
    {
      "cell_type": "code",
      "source": [
        "pip install experta\n"
      ],
      "metadata": {
        "colab": {
          "base_uri": "https://localhost:8080/"
        },
        "id": "ksjmBpXDFSBd",
        "outputId": "4430db18-cfa5-4c10-e626-d69ef4403d0e"
      },
      "execution_count": 3,
      "outputs": [
        {
          "output_type": "stream",
          "name": "stdout",
          "text": [
            "Requirement already satisfied: experta in /usr/local/lib/python3.10/dist-packages (1.9.4)\n",
            "Requirement already satisfied: frozendict==1.2 in /usr/local/lib/python3.10/dist-packages (from experta) (1.2)\n",
            "Requirement already satisfied: schema==0.6.7 in /usr/local/lib/python3.10/dist-packages (from experta) (0.6.7)\n"
          ]
        }
      ]
    },
    {
      "cell_type": "code",
      "source": [
        "from random import choice\n",
        "from experta import *\n",
        "\n",
        "\n",
        "class Light(Fact):\n",
        "    \"\"\"Info about the traffic light.\"\"\"\n",
        "    pass\n",
        "\n",
        "\n",
        "class RobotCrossStreet(KnowledgeEngine):\n",
        "    @Rule(Light(color='green'))\n",
        "    def green_light(self):\n",
        "        print(\"Walk\")\n",
        "\n",
        "    @Rule(Light(color='red'))\n",
        "    def red_light(self):\n",
        "        print(\"Don't walk\")\n",
        "\n",
        "    @Rule(AS.light << Light(color=L('yellow') | L('blinking-yellow')))\n",
        "    def cautious(self, light):\n",
        "        print(\"Be cautious because light is\", light[\"color\"])\n"
      ],
      "metadata": {
        "id": "ZRz4Cko7FFH6"
      },
      "execution_count": null,
      "outputs": []
    },
    {
      "cell_type": "markdown",
      "source": [
        ">>> engine = RobotCrossStreet()\n",
        "\n",
        ">>> engine.reset()\n",
        "\n",
        ">>> engine.declare(Light(color=choice(['green', 'yellow', 'blinking-yellow', 'red'])))\n",
        "\n",
        ">>> engine.run()\n",
        "\n",
        "Be cautious because light is blinking-yellow\n"
      ],
      "metadata": {
        "id": "he8VGfKzGSBr"
      }
    }
  ]
}