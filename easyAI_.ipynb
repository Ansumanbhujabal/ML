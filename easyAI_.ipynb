{
  "nbformat": 4,
  "nbformat_minor": 0,
  "metadata": {
    "colab": {
      "provenance": []
    },
    "kernelspec": {
      "name": "python3",
      "display_name": "Python 3"
    },
    "language_info": {
      "name": "python"
    }
  },
  "cells": [
    {
      "cell_type": "code",
      "source": [
        "!pip install easyAI\n",
        "\n"
      ],
      "metadata": {
        "colab": {
          "base_uri": "https://localhost:8080/"
        },
        "id": "zbxduVvQ8puI",
        "outputId": "0aa27525-0075-4e52-f20e-db9e71517358"
      },
      "execution_count": 20,
      "outputs": [
        {
          "output_type": "stream",
          "name": "stdout",
          "text": [
            "Collecting easyAI\n",
            "  Downloading easyAI-2.0.12-py3-none-any.whl (42 kB)\n",
            "\u001b[?25l     \u001b[90m━━━━━━━━━━━━━━━━━━━━━━━━━━━━━━━━━━━━━━━━\u001b[0m \u001b[32m0.0/42.2 kB\u001b[0m \u001b[31m?\u001b[0m eta \u001b[36m-:--:--\u001b[0m\r\u001b[2K     \u001b[90m━━━━━━━━━━━━━━━━━━━━━━━━━━━━━━━━━━━━━━━━\u001b[0m \u001b[32m42.2/42.2 kB\u001b[0m \u001b[31m1.3 MB/s\u001b[0m eta \u001b[36m0:00:00\u001b[0m\n",
            "\u001b[?25hRequirement already satisfied: numpy in /usr/local/lib/python3.10/dist-packages (from easyAI) (1.23.5)\n",
            "Installing collected packages: easyAI\n",
            "Successfully installed easyAI-2.0.12\n",
            "\u001b[33mWARNING: Running pip as the 'root' user can result in broken permissions and conflicting behaviour with the system package manager. It is recommended to use a virtual environment instead: https://pip.pypa.io/warnings/venv\u001b[0m\u001b[33m\n",
            "\u001b[0m"
          ]
        }
      ]
    },
    {
      "cell_type": "markdown",
      "source": [
        "## **GameOfBones**"
      ],
      "metadata": {
        "id": "1MUXh1BJD90D"
      }
    },
    {
      "cell_type": "code",
      "execution_count": null,
      "metadata": {
        "colab": {
          "base_uri": "https://localhost:8080/"
        },
        "id": "TowSTcm0hvJO",
        "outputId": "0b41e568-2d8c-4056-cb09-7df52a2602fb"
      },
      "outputs": [
        {
          "output_type": "stream",
          "name": "stdout",
          "text": [
            "20 bones left in the pile\n",
            "\n",
            "Player 1 what do you play ? 3\n",
            "\n",
            "Move #1: player 1 plays 3 :\n",
            "17 bones left in the pile\n",
            "\n",
            "Move #2: player 2 plays 1 :\n",
            "16 bones left in the pile\n",
            "\n",
            "Player 1 what do you play ? 3\n",
            "\n",
            "Move #3: player 1 plays 3 :\n",
            "13 bones left in the pile\n",
            "\n",
            "Move #4: player 2 plays 1 :\n",
            "12 bones left in the pile\n",
            "\n",
            "Player 1 what do you play ? 3\n",
            "\n",
            "Move #5: player 1 plays 3 :\n",
            "9 bones left in the pile\n",
            "\n",
            "Move #6: player 2 plays 1 :\n",
            "8 bones left in the pile\n"
          ]
        }
      ],
      "source": [
        "from easyAI import TwoPlayerGame, Human_Player, AI_Player, Negamax\n",
        "\n",
        "class GameOfBones( TwoPlayerGame ):\n",
        "    \"\"\" In turn, the players remove one, two or three bones from a\n",
        "    pile of bones. The player who removes the last bone loses. \"\"\"\n",
        "\n",
        "    def __init__(self, players=None):\n",
        "        self.players = players\n",
        "        self.pile = 20 # start with 20 bones in the pile\n",
        "        self.current_player = 1 # player 1 starts\n",
        "\n",
        "    def possible_moves(self): return ['1','2','3']\n",
        "    def make_move(self,move): self.pile -= int(move) # remove bones.\n",
        "    def win(self): return self.pile<=0 # opponent took the last bone ?\n",
        "    def is_over(self): return self.win() # Game stops when someone wins.\n",
        "    def show(self): print (\"%d bones left in the pile\" % self.pile)\n",
        "    def scoring(self): return 100 if game.win() else 0 # For the AI\n",
        "\n",
        "# Start a match (and store the history of moves when it ends)\n",
        "ai = Negamax(13) # The AI will think 13 moves in advance\n",
        "game = GameOfBones( [ Human_Player(), AI_Player(ai) ] )\n",
        "history = game.play()"
      ]
    },
    {
      "cell_type": "markdown",
      "source": [
        "# **Gameplay**"
      ],
      "metadata": {
        "id": "J0KDBm6iEGAr"
      }
    },
    {
      "cell_type": "code",
      "source": [
        "# Start a match (and store the history of moves when it ends)\n",
        "ai = Negamax(13) # The AI will think 13 moves in advance\n",
        "game = GameOfBones( [ Human_Player(), AI_Player(ai) ] )\n",
        "history = game.play()"
      ],
      "metadata": {
        "id": "f5y064T1p-aj"
      },
      "execution_count": null,
      "outputs": []
    },
    {
      "cell_type": "code",
      "source": [],
      "metadata": {
        "id": "VVAQfhUjEJIk"
      },
      "execution_count": null,
      "outputs": []
    }
  ]
}